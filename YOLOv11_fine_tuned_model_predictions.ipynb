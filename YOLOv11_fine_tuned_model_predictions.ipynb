{
  "cells": [
    {
      "cell_type": "markdown",
      "metadata": {
        "id": "hR9ukaV5eJbO"
      },
      "source": [
        "# Predictions With Our Fine-Tuned YOLOv11 Model\n",
        "\n",
        "\n",
        "#### Course: Deep Neural Engineering (IM1102)\n",
        "#### Group: Ellen Cordemans, Ilse Harmers & Sem Pepels"
      ]
    },
    {
      "cell_type": "markdown",
      "metadata": {
        "id": "cKipAkfveV8s"
      },
      "source": [
        "The code in this notebook is adapted from [1].\n",
        "\n",
        "\n",
        "---\n",
        "\n",
        "\n",
        "\n",
        "**References**\n",
        "\n",
        "[1] Kondrackis, L. (2024, December 5). How to Train YOLOv11 Instance\n",
        "Segmentation on a Custom Dataset. Roboflow Blog. Retrieved April 15, 2025, from https://blog.roboflow.com/train-yolov11-instance-segmentation/"
      ]
    },
    {
      "cell_type": "markdown",
      "metadata": {
        "id": "VUhxiIku7ZXv"
      },
      "source": [
        "## Preparations"
      ]
    },
    {
      "cell_type": "code",
      "execution_count": null,
      "metadata": {
        "id": "YuxXEXScV3cr"
      },
      "outputs": [],
      "source": [
        "# Checking the availability of Google Colab's GPU.\n",
        "!nvidia-smi"
      ]
    },
    {
      "cell_type": "code",
      "execution_count": null,
      "metadata": {
        "collapsed": true,
        "id": "HxKtLAQvWZmC"
      },
      "outputs": [],
      "source": [
        "# Installing Roboflow and Ultralytics libraries.\n",
        "!pip install -q \"roboflow==1.1.58\" \"ultralytics==8.3.95\""
      ]
    },
    {
      "cell_type": "code",
      "execution_count": null,
      "metadata": {
        "id": "2_IU5lm8VXBg"
      },
      "outputs": [],
      "source": [
        "# Importing important models, functions and libraries.\n",
        "from google.colab import userdata\n",
        "from roboflow import Roboflow\n",
        "import torch\n",
        "from ultralytics import YOLO\n",
        "import os\n",
        "import re\n",
        "from IPython.display import display\n",
        "from PIL import Image\n",
        "import locale"
      ]
    },
    {
      "cell_type": "code",
      "execution_count": null,
      "metadata": {
        "id": "tGvofAujFTNY"
      },
      "outputs": [],
      "source": [
        "# Downloading our dataset from Roboflow.\n",
        "ROBOFLOW_API_KEY = userdata.get('ROBOFLOW_API_KEY')\n",
        "rf = Roboflow(api_key=ROBOFLOW_API_KEY)\n",
        "project = rf.workspace(\"workspace-v0o55\").project(\"parsing-house-facades\")\n",
        "version = project.version(10)      # Train-Val-Test: 70-15-15.\n",
        "dataset = version.download(\"yolov11\")\n",
        "dataset_path = f\"{dataset.location}/data.yaml\""
      ]
    },
    {
      "cell_type": "markdown",
      "metadata": {
        "id": "LRt-ZcOa_8i_"
      },
      "source": [
        "## Evaluate Previously Fine-Tuned Model"
      ]
    },
    {
      "cell_type": "code",
      "execution_count": null,
      "metadata": {
        "id": "iZU16YAKAG4s"
      },
      "outputs": [],
      "source": [
        "# Loading in our best model from GitHub.\n",
        "locale.getpreferredencoding = lambda: \"UTF-8\"\n",
        "!git clone https://github.com/Jow-Dit-Is-Sem/Parsing-House-Facades.git\n",
        "model = YOLO(\"/content/Parsing-House-Facades/Fine-tuned_models/best.pt\")"
      ]
    },
    {
      "cell_type": "code",
      "execution_count": null,
      "metadata": {
        "id": "TRrG1W0cv6Ds"
      },
      "outputs": [],
      "source": [
        "# Checking whether cuda is available for Torch to use as device.\n",
        "if torch.cuda.is_available():\n",
        "    print(\"Cuda is available. Torch will use Cuda.\")\n",
        "    device = \"cuda\"\n",
        "elif torch.backends.mps.is_available():\n",
        "    print(\"MPS is available. Torch will use MPS.\")\n",
        "    device = \"mps\"\n",
        "else:\n",
        "    print(\"GPU is not available. Torch will fall back to CPU.\")\n",
        "    device = \"cpu\""
      ]
    },
    {
      "cell_type": "code",
      "execution_count": null,
      "metadata": {
        "id": "pD-YlCqrBeX3"
      },
      "outputs": [],
      "source": [
        "# Determining metrics on the test set.\n",
        "metrics = model.val(data=dataset_path, split=\"test\")"
      ]
    },
    {
      "cell_type": "code",
      "execution_count": null,
      "metadata": {
        "id": "_rwU5YsSCQOe"
      },
      "outputs": [],
      "source": [
        "# In this cell, we display the quantitative results on the test set (as a check).\n",
        "# Printing class labels.\n",
        "print(f\"Labels: {metrics.names}\")\n",
        "\n",
        "# Box AP metrics.\n",
        "AP50b = metrics.box.ap50\n",
        "AP50_95b = metrics.box.ap\n",
        "# Segmentation AP metrics.\n",
        "AP50s = metrics.seg.ap50\n",
        "AP50_95s = metrics.seg.ap\n",
        "\n",
        "print(f\"AP@50: {AP50b} (B) & {AP50s} (S)\")\n",
        "print(f\"AP@50-95: {AP50_95b} (B) & {AP50_95s} (S)\\n\")\n",
        "\n",
        "# Box mAP metrics.\n",
        "mAP50b = metrics.box.map50\n",
        "mAP50_95b = metrics.box.map\n",
        "# Segmentation mAP metrics.\n",
        "mAP50s = metrics.seg.map50\n",
        "mAP50_95s = metrics.seg.map\n",
        "\n",
        "print(f\"mAP@50: {mAP50b} (B) & {mAP50s} (S)\")\n",
        "print(f\"mAP@50-95: {mAP50_95b} (B) & {mAP50_95s} (S)\")"
      ]
    },
    {
      "cell_type": "code",
      "execution_count": null,
      "metadata": {
        "id": "ntwX6BjMCYiL"
      },
      "outputs": [],
      "source": [
        "# Displaying the confusion matrix of the test set for IoU = 0.45 (default value in Ultralytics library).\n",
        "folder_segment_content = os.listdir(\"/content/runs/segment\")\n",
        "test_folder = None\n",
        "\n",
        "# Extracting the most recently saved 'val' directory in which the test results were stored.\n",
        "def extract_last_number(s):\n",
        "    match = re.search(r'val(\\d+)', s)\n",
        "    if match:\n",
        "        return int(match.group(1))\n",
        "    elif s == \"val\":\n",
        "        return -float('inf')\n",
        "    return float('inf')\n",
        "\n",
        "filtered_list = [s for s in folder_segment_content if re.search(r'val\\d*', s)]\n",
        "sorted_list = sorted(filtered_list, key=extract_last_number, reverse=True)\n",
        "test_folder = sorted_list[0]\n",
        "\n",
        "# Displaying the (normalized) confusion matrix of the test data.\n",
        "img = Image.open(f\"/content/runs/segment/{test_folder}/confusion_matrix_normalized.png\")\n",
        "img_resized = img.resize((img.width // 4, img.height // 4))\n",
        "display(img_resized)"
      ]
    },
    {
      "cell_type": "markdown",
      "metadata": {
        "id": "A3JY6CldjNTI"
      },
      "source": [
        "## Visual Predictions With Our Model"
      ]
    },
    {
      "cell_type": "code",
      "execution_count": null,
      "metadata": {
        "id": "_jPcY2MlmvTO"
      },
      "outputs": [],
      "source": [
        "# Saving the annotated predictions on the test images for the visual comparisons mentioned in the report.\n",
        "# We set 'iou=0.6' such that we have the same threshold in the val and predict modes.\n",
        "model.predict(source=f\"{dataset.location}/test/images\", iou=0.6, save=True)"
      ]
    },
    {
      "cell_type": "code",
      "execution_count": null,
      "metadata": {
        "id": "8KpBVKFXkFqa"
      },
      "outputs": [],
      "source": [
        "# Saving the prediction results to a ZIP file.\n",
        "# This line might become deprecated when running multiple runs in one session, since the new directory might be saved as 'predict{+1}'.\n",
        "!zip -r /content/runs/segment/predict/test_images.zip /content/runs/segment/predict"
      ]
    }
  ],
  "metadata": {
    "accelerator": "GPU",
    "colab": {
      "gpuType": "T4",
      "provenance": []
    },
    "kernelspec": {
      "display_name": "Python 3",
      "name": "python3"
    },
    "language_info": {
      "name": "python"
    }
  },
  "nbformat": 4,
  "nbformat_minor": 0
}
